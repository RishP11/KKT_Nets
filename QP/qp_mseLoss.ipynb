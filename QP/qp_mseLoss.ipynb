{
 "cells": [
  {
   "cell_type": "markdown",
   "metadata": {},
   "source": [
    "**QP_NET**<br>\n",
    "by ${\\color{orangered}\\text{Rishabh Pomaje}}$\n",
    "- Neural Networks trained to learn how to solve Quadratic Programs"
   ]
  },
  {
   "cell_type": "code",
   "execution_count": 1,
   "metadata": {},
   "outputs": [
    {
     "name": "stdout",
     "output_type": "stream",
     "text": [
      "2.16.1\n"
     ]
    }
   ],
   "source": [
    "# Dependencies:\n",
    "import time \n",
    "start_time = time.time()\n",
    "import numpy as np \n",
    "import matplotlib.pyplot as plt \n",
    "plt.rcParams['font.size'] = 12\n",
    "%config InlineBackend.figure_format='retina'\n",
    "\n",
    "import tensorflow as tf \n",
    "print(f'{tf.__version__}')"
   ]
  },
  {
   "cell_type": "markdown",
   "metadata": {},
   "source": [
    "Generating new training data set\n",
    "\n",
    "<font color='red'>Generating large data set will require a lot of resources and compute time.\n",
    "It is best to generate the data and store it in .npy format. For every use we can just load the numpy array and be move on."
   ]
  },
  {
   "cell_type": "code",
   "execution_count": 5,
   "metadata": {},
   "outputs": [],
   "source": [
    "# To load use this :\n",
    "def load_training_data(file_path='training_data.npz'):\n",
    "    \"\"\"Loads the training data from the specified file.\"\"\"\n",
    "    data = np.load(file_path, allow_pickle=True)\n",
    "    return data['x_train'], data['y_train']\n",
    "\n",
    "x_train, y_train = load_training_data()"
   ]
  },
  {
   "cell_type": "code",
   "execution_count": 7,
   "metadata": {},
   "outputs": [
    {
     "data": {
      "text/plain": [
       "array([array([[0.25599731, 0.09536265],\n",
       "              [0.09536265, 0.21936642]]), array([0.21562167, 0.81561645]),\n",
       "       0.8051088471994223, array([[-0.8904468 , -0.02440685],\n",
       "                                  [-0.69100325, -0.50744263]]),\n",
       "       array([-0.56645127,  0.86837312]),\n",
       "       array([[-0.1214156 ,  0.08606821],\n",
       "              [ 0.47228723,  0.35708138]]),\n",
       "       array([-0.90808367,  0.18979562])], dtype=object)"
      ]
     },
     "execution_count": 7,
     "metadata": {},
     "output_type": "execute_result"
    }
   ],
   "source": [
    "x_train[0]"
   ]
  },
  {
   "cell_type": "markdown",
   "metadata": {},
   "source": [
    "Defining the Neural Network that will learn how to solve _Quadratic Programming_"
   ]
  },
  {
   "cell_type": "code",
   "execution_count": 4,
   "metadata": {},
   "outputs": [],
   "source": [
    "def buildQPnet(dim_x, num_Ineq, num_Eq):\n",
    "    input_size = dim_x**2+dim_x+1+num_Ineq*dim_x+num_Ineq+num_Eq*dim_x+num_Eq\n",
    "    # Read all the matrices\n",
    "    P = tf.keras.layers.Input(shape=(dim_x, dim_x), name=\"P\")\n",
    "    G = tf.keras.layers.Input(shape=(num_Ineq, dim_x), name=\"G\")\n",
    "    A = tf.keras.layers.Input(shape=(num_Eq, dim_x), name=\"A\")\n",
    "\n",
    "    # Read all the vectors\n",
    "    q = tf.keras.layers.Input(shape=(dim_x,), name=\"q\")\n",
    "    r = tf.keras.layers.Input(shape=(1,), name=\"r\")\n",
    "    h = tf.keras.layers.Input(shape=(num_Ineq,), name=\"h\")\n",
    "    b = tf.keras.layers.Input(shape=(num_Eq,), name=\"b\")\n",
    "\n",
    "    # Flatten all the matrices \n",
    "    P = tf.keras.layers.Flatten()(P)\n",
    "    G = tf.keras.layers.Flatten()(G)\n",
    "    A = tf.keras.layers.Flatten()(A)\n",
    "\n",
    "    # Combined input layer \n",
    "    input_layer = tf.keras.layers.Concatenate()([P, q, r, G, h, A, b])\n",
    "\n",
    "    # Main network :: Hidden layers\n",
    "    hidden_layer = tf.keras.layers.Dense(input_size, activation='linear', name=\"hidden_layer\")(input_layer)\n",
    "    hidden_layer = tf.keras.layers.Dense(8*input_size, activation='relu')(hidden_layer)\n",
    "    hidden_layer = tf.keras.layers.Dense(16*input_size, activation='relu')(hidden_layer)\n",
    "    hidden_layer = tf.keras.layers.Dense(16*input_size, activation='relu')(hidden_layer)\n",
    "    hidden_layer = tf.keras.layers.Dense(16*input_size, activation='relu')(hidden_layer)\n",
    "    hidden_layer = tf.keras.layers.Dense(8*input_size, activation='relu')(hidden_layer)\n",
    "    \n",
    "    # Output layer \n",
    "    output_layer = tf.keras.layers.Dense(dim_x+num_Ineq+num_Eq, activation='linear')(hidden_layer)\n",
    "\n",
    "    # Model package \n",
    "    kktNet = tf.keras.Model(inputs=[P, q, r, G, h, A, b], outputs=output_layer)\n",
    "\n",
    "    return kktNet"
   ]
  },
  {
   "cell_type": "markdown",
   "metadata": {},
   "source": [
    "Training the Neural Network"
   ]
  },
  {
   "cell_type": "code",
   "execution_count": null,
   "metadata": {},
   "outputs": [],
   "source": []
  },
  {
   "cell_type": "markdown",
   "metadata": {},
   "source": [
    "Testing the Neural Network"
   ]
  },
  {
   "cell_type": "code",
   "execution_count": null,
   "metadata": {},
   "outputs": [],
   "source": []
  },
  {
   "cell_type": "markdown",
   "metadata": {},
   "source": [
    "Analysis of the results "
   ]
  },
  {
   "cell_type": "code",
   "execution_count": null,
   "metadata": {},
   "outputs": [],
   "source": []
  },
  {
   "cell_type": "markdown",
   "metadata": {},
   "source": [
    "$\\downarrow$ Rough Work Starts Here $\\downarrow$"
   ]
  },
  {
   "cell_type": "code",
   "execution_count": 31,
   "metadata": {},
   "outputs": [
    {
     "data": {
      "text/plain": [
       "8"
      ]
     },
     "execution_count": 31,
     "metadata": {},
     "output_type": "execute_result"
    }
   ],
   "source": [
    "a = np.array([1, 2, 3])\n",
    "b = np.array([[2, 0, 1], [3, 4, 1], [1, 1, 1]])\n",
    "a.T @ [1, 2, 1]"
   ]
  },
  {
   "cell_type": "code",
   "execution_count": null,
   "metadata": {},
   "outputs": [],
   "source": []
  }
 ],
 "metadata": {
  "kernelspec": {
   "display_name": "ML_Tflow",
   "language": "python",
   "name": "python3"
  },
  "language_info": {
   "codemirror_mode": {
    "name": "ipython",
    "version": 3
   },
   "file_extension": ".py",
   "mimetype": "text/x-python",
   "name": "python",
   "nbconvert_exporter": "python",
   "pygments_lexer": "ipython3",
   "version": "undefined.undefined.undefined"
  }
 },
 "nbformat": 4,
 "nbformat_minor": 2
}
